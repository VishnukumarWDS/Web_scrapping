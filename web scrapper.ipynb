{
 "cells": [
  {
   "cell_type": "markdown",
   "id": "497be44d-d1f2-4c7a-a496-7f28f3712ee1",
   "metadata": {},
   "source": [
    "#  Web Scrapper"
   ]
  },
  {
   "cell_type": "code",
   "execution_count": 1,
   "id": "dd1ac501-1536-48f5-97b8-daf681beabde",
   "metadata": {},
   "outputs": [],
   "source": [
    "import requests"
   ]
  },
  {
   "cell_type": "markdown",
   "id": "d798e7c2-f9cc-417b-9c0f-4e86f50a7f92",
   "metadata": {},
   "source": [
    "## Requests is a popular Python library for sending HTTP requests and receiving HTTP responses from web servers. It provides a simple and intuitive interface to send HTTP requests using various methods like GET, POST, PUT, DELETE, HEAD, OPTIONS, "
   ]
  },
  {
   "cell_type": "markdown",
   "id": "47f7ac8e-f99d-4b7c-a544-164dd04c6d28",
   "metadata": {},
   "source": [
    "from bs4 import Beautifulsoup as bs"
   ]
  },
  {
   "cell_type": "markdown",
   "id": "c6925539-5367-4aa9-bb8b-c0a97f3b6320",
   "metadata": {},
   "source": [
    "bs4 is a Python library used for web scraping purposes. It provides tools for parsing HTML and XML documents and extracting information from them. BeautifulSoup is a class within the bs4 library that is used to create a parse tree from an HTML or XML document."
   ]
  },
  {
   "cell_type": "code",
   "execution_count": null,
   "id": "5fa6dba0-55a9-4fd5-a1d1-54c4cb1e3a58",
   "metadata": {},
   "outputs": [],
   "source": [
    "from urllib.request import urlopen"
   ]
  },
  {
   "cell_type": "markdown",
   "id": "dac73b47-80c8-4315-be8c-013f036b7c08",
   "metadata": {},
   "source": [
    "urlopen is a function from the urllib.request module in Python, which allows you to open URLs (Uniform Resource Locators) and access their contents."
   ]
  },
  {
   "cell_type": "code",
   "execution_count": null,
   "id": "f8269c74-9b64-4f95-92b7-4e7b55f808da",
   "metadata": {},
   "outputs": [],
   "source": [
    "import logging"
   ]
  },
  {
   "cell_type": "markdown",
   "id": "fb883419-04b0-4840-8612-b239198f74ab",
   "metadata": {},
   "source": [
    "The logging module in Python provides a flexible and powerful way to log messages from your Python code. It allows you to record information about events that occur during your program's execution, and provides various levels of logging that you can use to filter the messages that are logged."
   ]
  },
  {
   "cell_type": "code",
   "execution_count": 1,
   "id": "bc799b96-8efe-4cd2-b53d-dc250ed47752",
   "metadata": {},
   "outputs": [],
   "source": [
    "import requests\n",
    "from bs4 import BeautifulSoup as bs\n",
    "from urllib.request import urlopen\n",
    "import logging"
   ]
  },
  {
   "cell_type": "code",
   "execution_count": 2,
   "id": "658952f4-4d02-4685-9d8f-983a4f25485d",
   "metadata": {},
   "outputs": [
    {
     "data": {
      "text/plain": [
       "'https://www.flipkart.com/search?q=tv'"
      ]
     },
     "execution_count": 2,
     "metadata": {},
     "output_type": "execute_result"
    }
   ],
   "source": [
    "flipkart_url  = \"https://www.flipkart.com/search?q=\"+\"tv\"\n",
    "flipkart_url"
   ]
  },
  {
   "cell_type": "code",
   "execution_count": 4,
   "id": "88860f1d-1ba1-4349-a6e3-b70f3c2cacdb",
   "metadata": {},
   "outputs": [
    {
     "data": {
      "text/plain": [
       "'https://www.flipkart.com/search?q=Smartwatch'"
      ]
     },
     "execution_count": 4,
     "metadata": {},
     "output_type": "execute_result"
    }
   ],
   "source": [
    "flipkart_url1  = \"https://www.flipkart.com/search?q=\"+\"Smartwatch\"\n",
    "flipkart_url1"
   ]
  },
  {
   "cell_type": "code",
   "execution_count": null,
   "id": "e5a71b89-f386-4efa-9187-260f99f702d0",
   "metadata": {},
   "outputs": [],
   "source": [
    "# For example accessing the hyper url as below "
   ]
  },
  {
   "cell_type": "code",
   "execution_count": 17,
   "id": "ad4e7b48-306d-48a7-be5d-08e2313946ed",
   "metadata": {},
   "outputs": [
    {
     "data": {
      "text/plain": [
       "'https://www.flipkart.com/sansui-80-cm-32-inch-hd-ready-led-smart-android-tv-11-midnight-black-2021-model/p/itm038eb70861a01?pid=TVSGYGQW3RZPMEVT&lid=LSTTVSGYGQW3RZPMEVTNH7KIN&marketplace=FLIPKART&q=tv&store=ckf%2Fczl&srno=s_1_1&otracker=search&iid=en_PNsIyfgV5MswTEfe1DDZcWDR0BP4PloY66UoEMhE5HMhhxuOfCDu8R3%2FcIJi1e30%2BQIN2mnikPhPU7vDpaRjLA%3D%3D&ssid=6h29xmm1sg0000001677982971590&qH=c9a1fdac6e082dd8'"
      ]
     },
     "execution_count": 17,
     "metadata": {},
     "output_type": "execute_result"
    }
   ],
   "source": [
    "\"https://www.flipkart.com\"+\"/sansui-80-cm-32-inch-hd-ready-led-smart-android-tv-11-midnight-black-2021-model/p/itm038eb70861a01?pid=TVSGYGQW3RZPMEVT&lid=LSTTVSGYGQW3RZPMEVTNH7KIN&marketplace=FLIPKART&q=tv&store=ckf%2Fczl&srno=s_1_1&otracker=search&iid=en_PNsIyfgV5MswTEfe1DDZcWDR0BP4PloY66UoEMhE5HMhhxuOfCDu8R3%2FcIJi1e30%2BQIN2mnikPhPU7vDpaRjLA%3D%3D&ssid=6h29xmm1sg0000001677982971590&qH=c9a1fdac6e082dd8\""
   ]
  },
  {
   "cell_type": "code",
   "execution_count": null,
   "id": "a0de1a03-08b8-460a-b1a6-a163cfd0a767",
   "metadata": {},
   "outputs": [],
   "source": [
    "# here i need all the reviews of the tv in flipcart "
   ]
  },
  {
   "cell_type": "code",
   "execution_count": 16,
   "id": "df4d62ea-739d-4670-aa91-e0855a692f01",
   "metadata": {},
   "outputs": [],
   "source": [
    "url_file = urlopen(flipkart_url)"
   ]
  },
  {
   "cell_type": "code",
   "execution_count": null,
   "id": "c7f38670-fb5b-4ac2-b603-ef95abc1245d",
   "metadata": {},
   "outputs": [],
   "source": [
    "# AS if i run the above line we\n",
    "#  we see that data scrap that  we couldnot able to understand so i will use Beautifulsoup module to structure the scarp in beautiful way"
   ]
  },
  {
   "cell_type": "code",
   "execution_count": 17,
   "id": "15f2a756-49d4-4aba-9377-78e2172b41e6",
   "metadata": {},
   "outputs": [],
   "source": [
    "flipkart_page= url_file.read()"
   ]
  },
  {
   "cell_type": "code",
   "execution_count": 11,
   "id": "22571485-680f-426c-b6ad-03a8b0ac9af5",
   "metadata": {},
   "outputs": [],
   "source": [
    "# for that iam scrapping the specific one by one tv details \n",
    "#  if i inspect website i came to know that the details tv or (sets of one-one tv details) and \n",
    "# in html the hyperlink the set details link is stored"
   ]
  },
  {
   "cell_type": "code",
   "execution_count": 19,
   "id": "5075a5a2-7850-4f92-b899-256e1639b006",
   "metadata": {},
   "outputs": [],
   "source": [
    "flipkart_html = bs(flipkart_page, 'html.parser')"
   ]
  },
  {
   "cell_type": "code",
   "execution_count": null,
   "id": "42898b29-a1ee-4e61-a2d7-1f7d1b6c584a",
   "metadata": {},
   "outputs": [],
   "source": [
    "## But one disadvantges is making beautiul for some code only"
   ]
  },
  {
   "cell_type": "code",
   "execution_count": null,
   "id": "207cba07-994a-4203-92bf-f83bd5c1b45b",
   "metadata": {},
   "outputs": [],
   "source": [
    "# For example i copied the hyper link and joined with base flipcart Then gess what its woking \n"
   ]
  },
  {
   "cell_type": "code",
   "execution_count": 26,
   "id": "e72fc636-3c64-47cd-89ba-bc36a214c9e0",
   "metadata": {},
   "outputs": [
    {
     "data": {
      "text/plain": [
       "'https://www.flipkart.com/search?q=/yuwa-frameless-in-built-24w-soundbar-80-cm-32-inch-hd-ready-led-smart-and…c8Rq7r9msAFsw%3D%3D&ssid=67zhhntl9c0000001677994529370&qH=c9a1fdac6e082dd8'"
      ]
     },
     "execution_count": 26,
     "metadata": {},
     "output_type": "execute_result"
    }
   ],
   "source": [
    "'https://www.flipkart.com/search?q='+\"/yuwa-frameless-in-built-24w-soundbar-80-cm-32-inch-hd-ready-led-smart-and…c8Rq7r9msAFsw%3D%3D&ssid=67zhhntl9c0000001677994529370&qH=c9a1fdac6e082dd8\""
   ]
  },
  {
   "cell_type": "code",
   "execution_count": null,
   "id": "23eb086d-5895-4abf-a3a1-1b1acd03757d",
   "metadata": {},
   "outputs": [],
   "source": [
    "# i want each reviews of tv so,i collect  all the hyper link of all (sets of tv details) and by using the Hyperlink i will fetch the reviews\n",
    "# later i cam to kown the hyperlink are stored in \"div\" class i will fetch it directly here"
   ]
  },
  {
   "cell_type": "code",
   "execution_count": null,
   "id": "18eee9ff-d907-4472-abf6-ac70d35dc13e",
   "metadata": {},
   "outputs": [],
   "source": [
    "# As we know the flipkart_html file store all the data scrap of all tv details"
   ]
  },
  {
   "cell_type": "markdown",
   "id": "1be317e3-76d8-47a1-9205-6fe929031220",
   "metadata": {},
   "source": [
    "flipkart_html"
   ]
  },
  {
   "cell_type": "markdown",
   "id": "95e8a9dd-efbb-423f-a0e6-c029e009b37a",
   "metadata": {},
   "source": [
    "INSPECT:\n",
    "<div class=\"_1AtVbE col-12-12\">\n",
    "    <div class=\"_13oc-S\">\n",
    "        <div data-id=\"TVSFWFSHTZYQJGFF\" style=\"width: 100%;\""
   ]
  },
  {
   "cell_type": "code",
   "execution_count": null,
   "id": "2494abed-2f92-4528-a923-15e01bd809dc",
   "metadata": {},
   "outputs": [],
   "source": [
    "## as the given details above the scrap data is stored in that main link"
   ]
  },
  {
   "cell_type": "code",
   "execution_count": null,
   "id": "b0ef89a7-7955-4d8b-9d71-2c86cf237c38",
   "metadata": {
    "jp-MarkdownHeadingCollapsed": true,
    "tags": []
   },
   "outputs": [],
   "source": [
    "flipkart_html.find_all(\"div\",{\"class\":\"_1AtVbE col-12-12\"})"
   ]
  },
  {
   "cell_type": "code",
   "execution_count": null,
   "id": "a8c5fc06-00ab-41b4-b121-3b797b631445",
   "metadata": {},
   "outputs": [],
   "source": [
    "# if i  run the above link i got list of (set of tv details) which is stored in the div link\n",
    "##  i will assign the variable called bigbox"
   ]
  },
  {
   "cell_type": "code",
   "execution_count": 31,
   "id": "7b7b8f75-21d9-4bb4-a64b-4240b3c1ab0b",
   "metadata": {},
   "outputs": [],
   "source": [
    "bigbox = flipkart_html.find_all(\"div\",{\"class\":\"_1AtVbE col-12-12\"})"
   ]
  },
  {
   "cell_type": "code",
   "execution_count": null,
   "id": "4050f701-5481-4f5c-b9c6-2895ce18f133",
   "metadata": {},
   "outputs": [],
   "source": [
    "# i want to check that for how many (set of tv details) or product present in div format "
   ]
  },
  {
   "cell_type": "code",
   "execution_count": 32,
   "id": "3e506cb5-70e1-4f9e-b91d-b470a5147dfd",
   "metadata": {},
   "outputs": [
    {
     "data": {
      "text/plain": [
       "30"
      ]
     },
     "execution_count": 32,
     "metadata": {},
     "output_type": "execute_result"
    }
   ],
   "source": [
    "# i will use length function to find it\n",
    "len(bigbox)\n",
    "# as we see it has 15 prodect details "
   ]
  },
  {
   "cell_type": "code",
   "execution_count": 33,
   "id": "2f0ab10b-a6a4-4999-b23b-97f1099747b4",
   "metadata": {},
   "outputs": [],
   "source": [
    "# here the mian problem is the first 3 store the same details due to html and website structure\n",
    "# so we delete it \n",
    "del bigbox[0:3]"
   ]
  },
  {
   "cell_type": "code",
   "execution_count": 34,
   "id": "1560f78f-3124-40b4-b328-7b7f664650c0",
   "metadata": {},
   "outputs": [
    {
     "data": {
      "text/plain": [
       "27"
      ]
     },
     "execution_count": 34,
     "metadata": {},
     "output_type": "execute_result"
    }
   ],
   "source": [
    "len(bigbox)"
   ]
  },
  {
   "cell_type": "markdown",
   "id": "3db8e690-e3e3-4e69-88e8-358bf663eb64",
   "metadata": {},
   "source": [
    "INSPECT:\n",
    "\n",
    "<div class=\"_13oc-S\">flex\n",
    "    <div data-id=\"TVSGAXEVSNT3HBQA\" style=\"width: 100%;\">\n",
    "        <div class=\"_2kHMtA\" data-tkid=\"1c1e0a25-c77f-407b-894c-20a0641b263c.TVSGAXEVSNT3HBQA.SEARCH\">\n",
    "            <a class=\"_1fQZEK\" target=\"_blank\" rel=\"noopener noreferrer\" href=\"/oneplus-y1s-108-cm-43-inch-full-hd-led-smart-android-tv-11-bezel-less-fra…AXEVSNT3HBQA.SEARCH&ssid=reyhgic7b40000001677989256875&qH=c9a1fdac6e082dd8\">…</a>flex"
   ]
  },
  {
   "cell_type": "code",
   "execution_count": 35,
   "id": "f2a0f169-a7af-4565-bd8f-31f1dafd2ac9",
   "metadata": {},
   "outputs": [],
   "source": [
    "# As we see the above the main data scrap is  present in the \" a class\""
   ]
  },
  {
   "cell_type": "code",
   "execution_count": null,
   "id": "1a65acaf-1bc1-46f7-9c3e-eb1d5b8e3c6b",
   "metadata": {},
   "outputs": [],
   "source": [
    "bigbox[0].div.div.div.a\n",
    "# as we run the above code we get lot of data \n",
    "# in that  bigbox just need the hyperlink ='href' \n",
    "# so, using that and  we get the reviews of tv \n"
   ]
  },
  {
   "cell_type": "code",
   "execution_count": 37,
   "id": "3d6a1f3c-6ae2-4bd1-b8cd-f9108e83174b",
   "metadata": {},
   "outputs": [
    {
     "data": {
      "text/plain": [
       "'/samsung-80-cm-32-inch-hd-ready-led-smart-tizen-tv-2022-model/p/itm3c07ddc2dd25d?pid=TVSGHY2UZA9YHWQN&lid=LSTTVSGHY2UZA9YHWQNNQENTU&marketplace=FLIPKART&q=tv&store=ckf%2Fczl&spotlightTagId=BestsellerId_ckf%2Fczl&srno=s_1_2&otracker=search&fm=organic&iid=93092ad2-0589-4df0-ba53-11832cfa9272.TVSGHY2UZA9YHWQN.SEARCH&ppt=None&ppn=None&ssid=8u19y7pcxc0000001677996720258&qH=c9a1fdac6e082dd8'"
      ]
     },
     "execution_count": 37,
     "metadata": {},
     "output_type": "execute_result"
    }
   ],
   "source": [
    "bigbox[0].div.div.div.a['href']"
   ]
  },
  {
   "cell_type": "code",
   "execution_count": 39,
   "id": "94ba59ee-defa-4991-8e98-cf1a71418de7",
   "metadata": {},
   "outputs": [
    {
     "data": {
      "text/plain": [
       "'https://www.flipkart.com/samsung-80-cm-32-inch-hd-ready-led-smart-tizen-tv-2022-model/p/itm3c07ddc2dd25d?pid=TVSGHY2UZA9YHWQN&lid=LSTTVSGHY2UZA9YHWQNNQENTU&marketplace=FLIPKART&q=tv&store=ckf%2Fczl&spotlightTagId=BestsellerId_ckf%2Fczl&srno=s_1_2&otracker=search&fm=organic&iid=93092ad2-0589-4df0-ba53-11832cfa9272.TVSGHY2UZA9YHWQN.SEARCH&ppt=None&ppn=None&ssid=8u19y7pcxc0000001677996720258&qH=c9a1fdac6e082dd8'"
      ]
     },
     "execution_count": 39,
     "metadata": {},
     "output_type": "execute_result"
    }
   ],
   "source": [
    "# if iam going to append the for with 'flipkat.com'\n",
    "\"https://www.flipkart.com\"+bigbox[0].div.div.div.a['href']\n",
    "# we get main set of tv with the link we get into particular pages "
   ]
  },
  {
   "cell_type": "code",
   "execution_count": 41,
   "id": "61e3a2cd-cd96-410c-a372-bc7569a74d09",
   "metadata": {},
   "outputs": [
    {
     "name": "stdout",
     "output_type": "stream",
     "text": [
      "https://www.flipkart.com/samsung-80-cm-32-inch-hd-ready-led-smart-tizen-tv-2022-model/p/itm3c07ddc2dd25d?pid=TVSGHY2UZA9YHWQN&lid=LSTTVSGHY2UZA9YHWQNNQENTU&marketplace=FLIPKART&q=tv&store=ckf%2Fczl&spotlightTagId=BestsellerId_ckf%2Fczl&srno=s_1_2&otracker=search&fm=organic&iid=93092ad2-0589-4df0-ba53-11832cfa9272.TVSGHY2UZA9YHWQN.SEARCH&ppt=None&ppn=None&ssid=8u19y7pcxc0000001677996720258&qH=c9a1fdac6e082dd8\n",
      "https://www.flipkart.com/thomson-alpha-80-cm-32-inch-hd-ready-led-smart-linux-tv-30-w-sound-output-bezel-less-design/p/itm0e90bcdadb9c9?pid=TVSGEMQV7R4CMTGA&lid=LSTTVSGEMQV7R4CMTGAN8OZ8J&marketplace=FLIPKART&q=tv&store=ckf%2Fczl&srno=s_1_3&otracker=search&fm=organic&iid=93092ad2-0589-4df0-ba53-11832cfa9272.TVSGEMQV7R4CMTGA.SEARCH&ppt=None&ppn=None&ssid=8u19y7pcxc0000001677996720258&qH=c9a1fdac6e082dd8\n",
      "https://www.flipkart.com/infinix-y1-80-cm-32-inch-hd-ready-led-smart-linux-tv-wall-mount/p/itme5476ca89d1b0?pid=TVSGFGF34GMTB9KF&lid=LSTTVSGFGF34GMTB9KFF9JZPY&marketplace=FLIPKART&q=tv&store=ckf%2Fczl&srno=s_1_4&otracker=search&fm=organic&iid=93092ad2-0589-4df0-ba53-11832cfa9272.TVSGFGF34GMTB9KF.SEARCH&ppt=None&ppn=None&ssid=8u19y7pcxc0000001677996720258&qH=c9a1fdac6e082dd8\n",
      "https://www.flipkart.com/lg-80-cm-32-inch-hd-ready-led-smart-webos-tv/p/itm6207e6d122567?pid=TVSFTW4CSRW8PGDQ&lid=LSTTVSFTW4CSRW8PGDQSZQIO6&marketplace=FLIPKART&q=tv&store=ckf%2Fczl&srno=s_1_5&otracker=search&fm=organic&iid=93092ad2-0589-4df0-ba53-11832cfa9272.TVSFTW4CSRW8PGDQ.SEARCH&ppt=None&ppn=None&ssid=8u19y7pcxc0000001677996720258&qH=c9a1fdac6e082dd8\n",
      "https://www.flipkart.com/oneplus-y1s-80-cm-32-inch-hd-ready-led-smart-android-tv-11-bezel-less-frame/p/itm0a39edd7df236?pid=TVSGAXEVXNG9YBUM&lid=LSTTVSGAXEVXNG9YBUMLGWYAS&marketplace=FLIPKART&q=tv&store=ckf%2Fczl&srno=s_1_6&otracker=search&fm=organic&iid=93092ad2-0589-4df0-ba53-11832cfa9272.TVSGAXEVXNG9YBUM.SEARCH&ppt=None&ppn=None&ssid=8u19y7pcxc0000001677996720258&qH=c9a1fdac6e082dd8\n",
      "https://www.flipkart.com/acer-series-80-cm-32-inch-hd-ready-led-smart-android-tv-11-1-5gb-ram-2022-model/p/itm5767c4e3d5359?pid=TVSGEYD98YRZGSRU&lid=LSTTVSGEYD98YRZGSRURV7URN&marketplace=FLIPKART&q=tv&store=ckf%2Fczl&srno=s_1_7&otracker=search&fm=organic&iid=93092ad2-0589-4df0-ba53-11832cfa9272.TVSGEYD98YRZGSRU.SEARCH&ppt=None&ppn=None&ssid=8u19y7pcxc0000001677996720258&qH=c9a1fdac6e082dd8\n",
      "https://www.flipkart.com/mi-5a-100-cm-40-inch-full-hd-led-smart-android-tv-dolby-audio-2022-model/p/itm6be60be56f52d?pid=TVSGD5CS4N7NWFZD&lid=LSTTVSGD5CS4N7NWFZDDJBZRI&marketplace=FLIPKART&q=tv&store=ckf%2Fczl&srno=s_1_8&otracker=search&fm=organic&iid=93092ad2-0589-4df0-ba53-11832cfa9272.TVSGD5CS4N7NWFZD.SEARCH&ppt=None&ppn=None&ssid=8u19y7pcxc0000001677996720258&qH=c9a1fdac6e082dd8\n",
      "https://www.flipkart.com/oneplus-y1-100-cm-40-inch-full-hd-led-smart-android-tv-dolby-audio/p/itmdcbd9784403b2?pid=TVSG25MMGB8NKFD8&lid=LSTTVSG25MMGB8NKFD8BZ88HR&marketplace=FLIPKART&q=tv&store=ckf%2Fczl&srno=s_1_9&otracker=search&fm=organic&iid=93092ad2-0589-4df0-ba53-11832cfa9272.TVSG25MMGB8NKFD8.SEARCH&ppt=None&ppn=None&ssid=8u19y7pcxc0000001677996720258&qH=c9a1fdac6e082dd8\n",
      "https://www.flipkart.com/iffalcon-tcl-f53-79-97-cm-32-inch-hd-ready-led-smart-android-tv-11/p/itmf4e9c6c14ccb0?pid=TVSGCYVJPAJMHGUW&lid=LSTTVSGCYVJPAJMHGUWTE92JA&marketplace=FLIPKART&q=tv&store=ckf%2Fczl&srno=s_1_10&otracker=search&fm=organic&iid=93092ad2-0589-4df0-ba53-11832cfa9272.TVSGCYVJPAJMHGUW.SEARCH&ppt=None&ppn=None&ssid=8u19y7pcxc0000001677996720258&qH=c9a1fdac6e082dd8\n",
      "https://www.flipkart.com/samsung-crystal-4k-neo-series-108-cm-43-inch-ultra-hd-4k-led-smart-tizen-tv-black-2022-model/p/itma076c4dd16aa4?pid=TVSGEAGP9GXWCHCX&lid=LSTTVSGEAGP9GXWCHCXSVNDV5&marketplace=FLIPKART&q=tv&store=ckf%2Fczl&srno=s_1_11&otracker=search&fm=organic&iid=93092ad2-0589-4df0-ba53-11832cfa9272.TVSGEAGP9GXWCHCX.SEARCH&ppt=None&ppn=None&ssid=8u19y7pcxc0000001677996720258&qH=c9a1fdac6e082dd8\n",
      "https://www.flipkart.com/realme-neo-80-cm-32-inch-hd-ready-led-smart-linux-tv/p/itm3493defce7f54?pid=TVSG6EFEFQTYNBMC&lid=LSTTVSG6EFEFQTYNBMCTRC86C&marketplace=FLIPKART&q=tv&store=ckf%2Fczl&srno=s_1_12&otracker=search&fm=organic&iid=93092ad2-0589-4df0-ba53-11832cfa9272.TVSG6EFEFQTYNBMC.SEARCH&ppt=None&ppn=None&ssid=8u19y7pcxc0000001677996720258&qH=c9a1fdac6e082dd8\n",
      "https://www.flipkart.com/realme-100-3-cm-40-inch-full-hd-led-smart-android-tv-11-2022-model/p/itmfbee9155488c1?pid=TVSGDC5CN7XP3KNE&lid=LSTTVSGDC5CN7XP3KNEEXCHTD&marketplace=FLIPKART&q=tv&store=ckf%2Fczl&srno=s_1_13&otracker=search&fm=organic&iid=93092ad2-0589-4df0-ba53-11832cfa9272.TVSGDC5CN7XP3KNE.SEARCH&ppt=None&ppn=None&ssid=8u19y7pcxc0000001677996720258&qH=c9a1fdac6e082dd8\n",
      "https://www.flipkart.com/acer-series-127-cm-50-inch-ultra-hd-4k-led-smart-android-tv-11-30w-dolby-audio-memc-2022-model/p/itm54c82a8825de0?pid=TVSGEYD9PZYZVGGS&lid=LSTTVSGEYD9PZYZVGGSH6YNOA&marketplace=FLIPKART&q=tv&store=ckf%2Fczl&srno=s_1_14&otracker=search&fm=organic&iid=93092ad2-0589-4df0-ba53-11832cfa9272.TVSGEYD9PZYZVGGS.SEARCH&ppt=None&ppn=None&ssid=8u19y7pcxc0000001677996720258&qH=c9a1fdac6e082dd8\n",
      "https://www.flipkart.com/oneplus-y1s-pro-138-cm-55-inch-ultra-hd-4k-led-smart-android-tv/p/itm5db9783099cbb?pid=TVSGJUFY5QMMWSU7&lid=LSTTVSGJUFY5QMMWSU7V52T1B&marketplace=FLIPKART&q=tv&store=ckf%2Fczl&srno=s_1_15&otracker=search&fm=organic&iid=93092ad2-0589-4df0-ba53-11832cfa9272.TVSGJUFY5QMMWSU7.SEARCH&ppt=None&ppn=None&ssid=8u19y7pcxc0000001677996720258&qH=c9a1fdac6e082dd8\n",
      "https://www.flipkart.com/realme-80-cm-32-inch-hd-ready-led-smart-android-tv/p/itm56d1cf16da75b?pid=TVSFRTJQTZVKTF6Y&lid=LSTTVSFRTJQTZVKTF6YHMHXRW&marketplace=FLIPKART&q=tv&store=ckf%2Fczl&srno=s_1_16&otracker=search&fm=organic&iid=93092ad2-0589-4df0-ba53-11832cfa9272.TVSFRTJQTZVKTF6Y.SEARCH&ppt=None&ppn=None&ssid=8u19y7pcxc0000001677996720258&qH=c9a1fdac6e082dd8\n",
      "https://www.flipkart.com/mi-5a-108-cm-43-inch-full-hd-led-smart-android-tv-dolby-audio-2022-model/p/itm2d5967449cb9b?pid=TVSGD5CS3CXNF2DF&lid=LSTTVSGD5CS3CXNF2DFPJ6HSF&marketplace=FLIPKART&q=tv&store=ckf%2Fczl&srno=s_1_17&otracker=search&fm=organic&iid=93092ad2-0589-4df0-ba53-11832cfa9272.TVSGD5CS3CXNF2DF.SEARCH&ppt=None&ppn=None&ssid=8u19y7pcxc0000001677996720258&qH=c9a1fdac6e082dd8\n",
      "https://www.flipkart.com/samsung-crystal-4k-108-cm-43-inch-ultra-hd-4k-led-smart-tizen-tv/p/itm7dcfb3cc69fbb?pid=TVSG2CG7F2Y9YUJ3&lid=LSTTVSG2CG7F2Y9YUJ39FS3ZI&marketplace=FLIPKART&q=tv&store=ckf%2Fczl&srno=s_1_18&otracker=search&fm=organic&iid=93092ad2-0589-4df0-ba53-11832cfa9272.TVSG2CG7F2Y9YUJ3.SEARCH&ppt=None&ppn=None&ssid=8u19y7pcxc0000001677996720258&qH=c9a1fdac6e082dd8\n",
      "https://www.flipkart.com/beethosol-80-cm-32-inch-hd-ready-led-smart-android-tv/p/itm8d2b1963a203d?pid=TVSGG79MJVM6CEZV&lid=LSTTVSGG79MJVM6CEZV0GKW4Y&marketplace=FLIPKART&q=tv&store=ckf%2Fczl&srno=s_1_19&otracker=search&fm=organic&iid=93092ad2-0589-4df0-ba53-11832cfa9272.TVSGG79MJVM6CEZV.SEARCH&ppt=None&ppn=None&ssid=8u19y7pcxc0000001677996720258&qH=c9a1fdac6e082dd8\n",
      "https://www.flipkart.com/mi-x-series-108-cm-43-inch-ultra-hd-4k-led-smart-android-tv-dolby-vision-30w-audio-2022-model/p/itm39b39b602f81a?pid=TVSGHEQVGZVTSEBT&lid=LSTTVSGHEQVGZVTSEBT6BSNVA&marketplace=FLIPKART&q=tv&store=ckf%2Fczl&srno=s_1_20&otracker=search&fm=organic&iid=93092ad2-0589-4df0-ba53-11832cfa9272.TVSGHEQVGZVTSEBT.SEARCH&ppt=None&ppn=None&ssid=8u19y7pcxc0000001677996720258&qH=c9a1fdac6e082dd8\n",
      "https://www.flipkart.com/beethosol-80-cm-32-inch-hd-ready-led-tv/p/itmbc44ca58989cf?pid=TVSGG79MDS8CXWGD&lid=LSTTVSGG79MDS8CXWGD8P6NUB&marketplace=FLIPKART&q=tv&store=ckf%2Fczl&srno=s_1_21&otracker=search&fm=organic&iid=93092ad2-0589-4df0-ba53-11832cfa9272.TVSGG79MDS8CXWGD.SEARCH&ppt=None&ppn=None&ssid=8u19y7pcxc0000001677996720258&qH=c9a1fdac6e082dd8\n",
      "https://www.flipkart.com/lg-uq7500-108-cm-43-inch-ultra-hd-4k-led-smart-webos-tv-2022/p/itm39fd5782b27ed?pid=TVSGFGYS5TJRUJNV&lid=LSTTVSGFGYS5TJRUJNVLCTYNB&marketplace=FLIPKART&q=tv&store=ckf%2Fczl&srno=s_1_22&otracker=search&fm=organic&iid=93092ad2-0589-4df0-ba53-11832cfa9272.TVSGFGYS5TJRUJNV.SEARCH&ppt=None&ppn=None&ssid=8u19y7pcxc0000001677996720258&qH=c9a1fdac6e082dd8\n",
      "https://www.flipkart.com/iffalcon-tcl-u62-108-cm-43-inch-ultra-hd-4k-led-smart-google-tv/p/itm09fd15fcb7ee8?pid=TVSGGJTQPTRDFDGX&lid=LSTTVSGGJTQPTRDFDGXD1AZGH&marketplace=FLIPKART&q=tv&store=ckf%2Fczl&srno=s_1_23&otracker=search&fm=organic&iid=93092ad2-0589-4df0-ba53-11832cfa9272.TVSGGJTQPTRDFDGX.SEARCH&ppt=None&ppn=None&ssid=8u19y7pcxc0000001677996720258&qH=c9a1fdac6e082dd8\n",
      "https://www.flipkart.com/oneplus-u1s-139-cm-55-inch-ultra-hd-4k-led-smart-android-tv-far-field-dolby-audio/p/itmf1c99185dba18?pid=TVSG3E9AAUPVGH3Z&lid=LSTTVSG3E9AAUPVGH3ZMCZXAF&marketplace=FLIPKART&q=tv&store=ckf%2Fczl&srno=s_1_24&otracker=search&fm=organic&iid=93092ad2-0589-4df0-ba53-11832cfa9272.TVSG3E9AAUPVGH3Z.SEARCH&ppt=None&ppn=None&ssid=8u19y7pcxc0000001677996720258&qH=c9a1fdac6e082dd8\n"
     ]
    },
    {
     "ename": "AttributeError",
     "evalue": "'NoneType' object has no attribute 'a'",
     "output_type": "error",
     "traceback": [
      "\u001b[0;31m---------------------------------------------------------------------------\u001b[0m",
      "\u001b[0;31mAttributeError\u001b[0m                            Traceback (most recent call last)",
      "Cell \u001b[0;32mIn[41], line 4\u001b[0m\n\u001b[1;32m      1\u001b[0m \u001b[38;5;66;03m# so i will use for loop  for geting individul data\u001b[39;00m\n\u001b[1;32m      3\u001b[0m \u001b[38;5;28;01mfor\u001b[39;00m i \u001b[38;5;129;01min\u001b[39;00m bigbox:\n\u001b[0;32m----> 4\u001b[0m     \u001b[38;5;28mprint\u001b[39m(\u001b[38;5;124m\"\u001b[39m\u001b[38;5;124mhttps://www.flipkart.com\u001b[39m\u001b[38;5;124m\"\u001b[39m\u001b[38;5;241m+\u001b[39m \u001b[43mi\u001b[49m\u001b[38;5;241;43m.\u001b[39;49m\u001b[43mdiv\u001b[49m\u001b[38;5;241;43m.\u001b[39;49m\u001b[43mdiv\u001b[49m\u001b[38;5;241;43m.\u001b[39;49m\u001b[43mdiv\u001b[49m\u001b[38;5;241;43m.\u001b[39;49m\u001b[43ma\u001b[49m[\u001b[38;5;124m'\u001b[39m\u001b[38;5;124mhref\u001b[39m\u001b[38;5;124m'\u001b[39m])\n",
      "\u001b[0;31mAttributeError\u001b[0m: 'NoneType' object has no attribute 'a'"
     ]
    }
   ],
   "source": [
    "# so i will use for loop  for geting individul data\n",
    "\n",
    "for i in bigbox:\n",
    "    print(\"https://www.flipkart.com\"+ i.div.div.div.a['href'])"
   ]
  },
  {
   "cell_type": "code",
   "execution_count": 42,
   "id": "9f86a748-9651-4aed-97d9-88d535e62398",
   "metadata": {},
   "outputs": [],
   "source": [
    "# now url iis ready\n",
    "productlink=\"https://www.flipkart.com\"+bigbox[0].div.div.div.a['href']"
   ]
  },
  {
   "cell_type": "code",
   "execution_count": 43,
   "id": "8263712a-ce57-4b23-9c38-42b5bc7f1902",
   "metadata": {},
   "outputs": [
    {
     "data": {
      "text/plain": [
       "'https://www.flipkart.com/samsung-80-cm-32-inch-hd-ready-led-smart-tizen-tv-2022-model/p/itm3c07ddc2dd25d?pid=TVSGHY2UZA9YHWQN&lid=LSTTVSGHY2UZA9YHWQNNQENTU&marketplace=FLIPKART&q=tv&store=ckf%2Fczl&spotlightTagId=BestsellerId_ckf%2Fczl&srno=s_1_2&otracker=search&fm=organic&iid=93092ad2-0589-4df0-ba53-11832cfa9272.TVSGHY2UZA9YHWQN.SEARCH&ppt=None&ppn=None&ssid=8u19y7pcxc0000001677996720258&qH=c9a1fdac6e082dd8'"
      ]
     },
     "execution_count": 43,
     "metadata": {},
     "output_type": "execute_result"
    }
   ],
   "source": [
    "productlink"
   ]
  },
  {
   "cell_type": "code",
   "execution_count": 44,
   "id": "624071ae-e617-4cbb-8457-c3176c3c4b62",
   "metadata": {},
   "outputs": [
    {
     "data": {
      "text/plain": [
       "<Response [200]>"
      ]
     },
     "execution_count": 44,
     "metadata": {},
     "output_type": "execute_result"
    }
   ],
   "source": [
    "#now i will use request to extract each and every thing \n",
    "requests.get(productlink)"
   ]
  },
  {
   "cell_type": "code",
   "execution_count": 52,
   "id": "a56302de-dd2d-4b77-b57d-e6b9a46ce8b0",
   "metadata": {},
   "outputs": [],
   "source": [
    "# store it in variable\n",
    "pro_req = requests.get(productlink)"
   ]
  },
  {
   "cell_type": "code",
   "execution_count": 46,
   "id": "7a85f3ab-1abc-497a-b5cd-c6e4add94b12",
   "metadata": {},
   "outputs": [
    {
     "data": {
      "text/plain": [
       "<Response [200]>"
      ]
     },
     "execution_count": 46,
     "metadata": {},
     "output_type": "execute_result"
    }
   ],
   "source": [
    "pro_req"
   ]
  },
  {
   "cell_type": "markdown",
   "id": "16965465-355a-4e10-924a-fdd3a825e081",
   "metadata": {
    "tags": []
   },
   "source": [
    "# How to acess it\n",
    "bs(pro_req.text,'html.parser')\n",
    "# if we run the above code we get stup again so we use beautifulsouo agian to get beautiful structure"
   ]
  },
  {
   "cell_type": "code",
   "execution_count": 54,
   "id": "204fc07a-f78c-4a79-b959-4942309eb280",
   "metadata": {},
   "outputs": [],
   "source": [
    "product_html=bs(pro_req.text,'html.parser')"
   ]
  },
  {
   "cell_type": "code",
   "execution_count": null,
   "id": "bf4e949f-de69-402a-9dc2-c418b9ab89f2",
   "metadata": {},
   "outputs": [],
   "source": [
    "INSPECT:\n",
    "<div class=\"_16PBlm\">\n",
    "# as we know the review sets are in div format of '_10PBlm'"
   ]
  },
  {
   "cell_type": "code",
   "execution_count": 57,
   "id": "70f51d32-d4fc-475b-9c56-7748a8197426",
   "metadata": {},
   "outputs": [],
   "source": [
    "comments_bigbox = product_html.find_all(\"div\" ,{\"class\":\"_16PBlm\"})"
   ]
  },
  {
   "cell_type": "code",
   "execution_count": null,
   "id": "7b11e33a-e9d6-4892-8155-85e20680a8bb",
   "metadata": {},
   "outputs": [],
   "source": [
    "# main i need the review of laptop so the preson ho commented is requried"
   ]
  },
  {
   "cell_type": "code",
   "execution_count": null,
   "id": "83c8fa4f-a16b-4d76-b224-026ff01cff3d",
   "metadata": {},
   "outputs": [],
   "source": [
    "comments_bigbox\n",
    "# again lot of stuff if we run the above code"
   ]
  },
  {
   "cell_type": "code",
   "execution_count": 60,
   "id": "8eab106f-9a5b-4a35-968e-e99270123c3b",
   "metadata": {},
   "outputs": [
    {
     "data": {
      "text/plain": [
       "11"
      ]
     },
     "execution_count": 60,
     "metadata": {},
     "output_type": "execute_result"
    }
   ],
   "source": [
    "len(comments_bigbox)"
   ]
  },
  {
   "cell_type": "code",
   "execution_count": null,
   "id": "a3af0f86-17b8-4510-8008-edc0d4f97959",
   "metadata": {},
   "outputs": [],
   "source": [
    "INSPECT:\n",
    "\n",
    "                <p class=\"_2sc7ZR _2V5EHH\">Sabarna Chakraborty</p>"
   ]
  },
  {
   "cell_type": "code",
   "execution_count": 64,
   "id": "c43324b0-9e86-4fc3-a8cd-0956e75ea349",
   "metadata": {},
   "outputs": [
    {
     "data": {
      "text/plain": [
       "'Abhijit Kar'"
      ]
     },
     "execution_count": 64,
     "metadata": {},
     "output_type": "execute_result"
    }
   ],
   "source": [
    "comments_bigbox[0].div.div.find_all(\"p\" ,{\"class\":\"_2sc7ZR _2V5EHH\"})[0].text"
   ]
  },
  {
   "cell_type": "code",
   "execution_count": 65,
   "id": "4a03b316-da6c-448a-8f5e-f7c91c23c13f",
   "metadata": {},
   "outputs": [
    {
     "name": "stdout",
     "output_type": "stream",
     "text": [
      "Abhijit Kar\n",
      "Sabarna Chakraborty\n",
      "Harjeet Malik\n",
      "Keerthana  Indrajith \n",
      "Vikas Rana\n",
      "malkeet mehra\n",
      "Hrithik Customer\n",
      "Vamsi Krishna Nittala\n",
      "Ankit Kumar\n",
      "Prakash Mukherjee\n"
     ]
    },
    {
     "ename": "AttributeError",
     "evalue": "'NoneType' object has no attribute 'div'",
     "output_type": "error",
     "traceback": [
      "\u001b[0;31m---------------------------------------------------------------------------\u001b[0m",
      "\u001b[0;31mAttributeError\u001b[0m                            Traceback (most recent call last)",
      "Cell \u001b[0;32mIn[65], line 2\u001b[0m\n\u001b[1;32m      1\u001b[0m \u001b[38;5;28;01mfor\u001b[39;00m i \u001b[38;5;129;01min\u001b[39;00m comments_bigbox:\n\u001b[0;32m----> 2\u001b[0m     \u001b[38;5;28mprint\u001b[39m(\u001b[43mi\u001b[49m\u001b[38;5;241;43m.\u001b[39;49m\u001b[43mdiv\u001b[49m\u001b[38;5;241;43m.\u001b[39;49m\u001b[43mdiv\u001b[49m\u001b[38;5;241m.\u001b[39mfind_all(\u001b[38;5;124m\"\u001b[39m\u001b[38;5;124mp\u001b[39m\u001b[38;5;124m\"\u001b[39m ,{\u001b[38;5;124m\"\u001b[39m\u001b[38;5;124mclass\u001b[39m\u001b[38;5;124m\"\u001b[39m:\u001b[38;5;124m\"\u001b[39m\u001b[38;5;124m_2sc7ZR _2V5EHH\u001b[39m\u001b[38;5;124m\"\u001b[39m})[\u001b[38;5;241m0\u001b[39m]\u001b[38;5;241m.\u001b[39mtext)\n",
      "\u001b[0;31mAttributeError\u001b[0m: 'NoneType' object has no attribute 'div'"
     ]
    }
   ],
   "source": [
    "for i in comments_bigbox:\n",
    "    print(i.div.div.find_all(\"p\" ,{\"class\":\"_2sc7ZR _2V5EHH\"})[0].text)"
   ]
  },
  {
   "cell_type": "code",
   "execution_count": null,
   "id": "83c12c1f-566c-4695-ad89-c6f252a31958",
   "metadata": {},
   "outputs": [],
   "source": [
    "# as we data of person who reviewed \n",
    "# now we need comments of those persons\n"
   ]
  },
  {
   "cell_type": "code",
   "execution_count": null,
   "id": "67468331-277e-4337-8efb-9e8d85687294",
   "metadata": {},
   "outputs": [],
   "source": [
    "INSPECT:\n",
    "<div class=\"_1AtVbE col-12-12\">\n",
    "    <div class=\"_13oc-S\"><div data-id=\"TVSFWFSHTZYQJGFF\" style=\"width: 100%;\"\n",
    "        <div class=\"row\">flex\n",
    "            <div class=\"_3LWZlK _1BLPMq\">…</div>\n",
    "                <p class=\"_2-N8zT\">Wonderful</p>\n",
    "                    </div>"
   ]
  },
  {
   "cell_type": "code",
   "execution_count": 73,
   "id": "d8b40d56-f1b0-45e6-ba95-8ada3aab4ed9",
   "metadata": {},
   "outputs": [
    {
     "name": "stdout",
     "output_type": "stream",
     "text": [
      "5\n",
      "5\n",
      "5\n",
      "5\n",
      "5\n",
      "5\n",
      "5\n",
      "5\n",
      "5\n",
      "5\n",
      "5\n"
     ]
    }
   ],
   "source": [
    "for i in comments_bigbox:\n",
    "    print(comments_bigbox[0].div.div.div.div.text)"
   ]
  },
  {
   "cell_type": "code",
   "execution_count": 69,
   "id": "f44df2a3-1b0a-4419-a4de-e4ca32401728",
   "metadata": {},
   "outputs": [
    {
     "data": {
      "text/plain": [
       "<div class=\"row\"><div class=\"_3LWZlK _1BLPMq\">5<img class=\"_1wB99o\" src=\"data:image/svg+xml;base64,PHN2ZyB4bWxucz0iaHR0cDovL3d3dy53My5vcmcvMjAwMC9zdmciIHdpZHRoPSIxMyIgaGVpZ2h0PSIxMiI+PHBhdGggZmlsbD0iI0ZGRiIgZD0iTTYuNSA5LjQzOWwtMy42NzQgMi4yMy45NC00LjI2LTMuMjEtMi44ODMgNC4yNTQtLjQwNEw2LjUuMTEybDEuNjkgNC4wMSA0LjI1NC40MDQtMy4yMSAyLjg4Mi45NCA0LjI2eiIvPjwvc3ZnPg==\"/></div><p class=\"_2-N8zT\">Wonderful</p></div>"
      ]
     },
     "execution_count": 69,
     "metadata": {},
     "output_type": "execute_result"
    }
   ],
   "source": [
    "comments_bigbox[0].div.div.div"
   ]
  },
  {
   "cell_type": "code",
   "execution_count": 71,
   "id": "b754af20-e760-4d43-8fdb-5ba6b8cb2488",
   "metadata": {},
   "outputs": [
    {
     "data": {
      "text/plain": [
       "'Wonderful'"
      ]
     },
     "execution_count": 71,
     "metadata": {},
     "output_type": "execute_result"
    }
   ],
   "source": [
    "# here the comment in p we can see it on above code\n",
    "comments_bigbox[0].div.div.div.p.text"
   ]
  },
  {
   "cell_type": "code",
   "execution_count": 74,
   "id": "b49dc760-fb6f-4bb9-9194-cebad1c7fb11",
   "metadata": {},
   "outputs": [
    {
     "name": "stdout",
     "output_type": "stream",
     "text": [
      "Wonderful\n",
      "Brilliant\n",
      "Brilliant\n",
      "Worth every penny\n",
      "Delightful\n",
      "Fabulous!\n",
      "Worth the money\n",
      "Moderate\n",
      "Mind-blowing purchase\n",
      "Highly recommended\n"
     ]
    },
    {
     "ename": "AttributeError",
     "evalue": "'NoneType' object has no attribute 'div'",
     "output_type": "error",
     "traceback": [
      "\u001b[0;31m---------------------------------------------------------------------------\u001b[0m",
      "\u001b[0;31mAttributeError\u001b[0m                            Traceback (most recent call last)",
      "Cell \u001b[0;32mIn[74], line 3\u001b[0m\n\u001b[1;32m      1\u001b[0m \u001b[38;5;66;03m# now we list all the comments by using for loop\u001b[39;00m\n\u001b[1;32m      2\u001b[0m \u001b[38;5;28;01mfor\u001b[39;00m i \u001b[38;5;129;01min\u001b[39;00m comments_bigbox:\n\u001b[0;32m----> 3\u001b[0m     \u001b[38;5;28mprint\u001b[39m(\u001b[43mi\u001b[49m\u001b[38;5;241;43m.\u001b[39;49m\u001b[43mdiv\u001b[49m\u001b[38;5;241;43m.\u001b[39;49m\u001b[43mdiv\u001b[49m\u001b[38;5;241m.\u001b[39mdiv\u001b[38;5;241m.\u001b[39mp\u001b[38;5;241m.\u001b[39mtext )\n",
      "\u001b[0;31mAttributeError\u001b[0m: 'NoneType' object has no attribute 'div'"
     ]
    }
   ],
   "source": [
    "# now we list all the comments by using for loop\n",
    "for i in comments_bigbox:\n",
    "    print(i.div.div.div.p.text )"
   ]
  },
  {
   "cell_type": "code",
   "execution_count": null,
   "id": "af1439ed-1d38-473e-87a9-6e1af5ce6864",
   "metadata": {},
   "outputs": [],
   "source": [
    "# we got the main comment now we need sub comments  \n",
    "INSPECT:\n",
    "<div class=\"_16PBlm\">\n",
    "    <div class=\"col\">\n",
    "        <div class=\"col _2wzgFH\">\n",
    "            <div class=\"row\">…</div>flex\n",
    "                <div class=\"t-ZTKy\">\n",
    "                    <div>\n",
    "                        <div class>\n",
    "                            \"Very Good Picture Quality with a decent sound system. You can surely go for this product in this price range. Good delivery by Flipkart.\"\n",
    "                            </div>"
   ]
  },
  {
   "cell_type": "code",
   "execution_count": 77,
   "id": "c8714175-fff0-49f2-94c8-0c2d9449e706",
   "metadata": {},
   "outputs": [
    {
     "data": {
      "text/plain": [
       "\"Nice tv within the budget. Sound quality is good, for picture quality I had to attach hdmi cable from set top box to tv. After that quality is pretty good.This tv did not come with a stand so I had only one option with the wall mount which I didn't like. Apart from that overall experience is good.\""
      ]
     },
     "execution_count": 77,
     "metadata": {},
     "output_type": "execute_result"
    }
   ],
   "source": [
    "comments_bigbox[0].div.div.find_all(\"div\",{\"class\":\"\"})[0].div.text"
   ]
  },
  {
   "cell_type": "code",
   "execution_count": 79,
   "id": "a367bd2e-3daa-4315-afdb-8cf6c56b6b87",
   "metadata": {},
   "outputs": [
    {
     "name": "stdout",
     "output_type": "stream",
     "text": [
      "Nice tv within the budget. Sound quality is good, for picture quality I had to attach hdmi cable from set top box to tv. After that quality is pretty good.This tv did not come with a stand so I had only one option with the wall mount which I didn't like. Apart from that overall experience is good.\n",
      "Very Good Picture Quality with a decent sound system. You can surely go for this product in this price range. Good delivery by Flipkart.\n",
      "Nice one at this price good Samsung 🙏🙏🙏🙏My first Samsung led tv 📺 Befor I always use lg but this time Samsung I’m happy with Samsung led tv great job by Samsung and the Flipkart Thank you 🙏 Flipkart to deliver in this lockdown also little bit late but great work by Flipkart Good luck 😉\n",
      "Really awesome tv best quality very good sound... Just go for it guys bcz its very bettet than mi TV.  Very low prize best quality tv great and tqq flipkart\n",
      "overall is good compare to price, pictures quality is good but not hd intertnet options are also good it affordable and good\n",
      "After watching 3-4 days on this led tv.. I found it good worth of money.. Picture quality is awesome and clear.. Sound is good and not need to connect any other speaker because the output of the TV speakers is enough to enjoy a loud sound experience. Connectivity options are good and quick.. Overall I will recommended it to buy  over Mi, realme and other similar brands..\n",
      "Go for it Nice 32 inch tv by our old trusted brand SamsungSamsung make TV's from CRT edition to now QLEDAnd then Samsung service any where by their experts was goodOn last I want to say if any one want to buy tv remember this points:*Go for a trusted brand who gave good after sale service  because this was a tv not a mobile which we donot change after 2 or 3 years.*Check ratings from inside like picture, sound, connectivity.*Check online reviews ,video etc\n",
      "Not so good. Didn’t expect this kind of product from a popular brand like Samsung. Disappointing and the functionality is completely a old way. All the popular apps like Hotstar, aha, etc., are not downloadable as it is not allowing and we need to switch off and switch on the tv every-time to install an app but those apps will not work. Need to fix lot of bugs in the software.\n",
      "Connecting with pc is best ...... Netflix working very better and sound quality is also best .Hd support is very best .....1080 p with youtube is awesomeInstallation done in 2 days\n",
      "Wow!!! I am very surprised about it. It is very awesome and nice picture quality and like of Full HD but it is HD. It is Ultra HD + HDR, Deep Colour (True beautiful Colour) I am extremely happy and mind blowing. Thank Flipkart Service. I already giving rating of 5/5 🔥.Picture/Sound/Connect or all are rating of 5/5 🔥🔥🔥\n"
     ]
    },
    {
     "ename": "AttributeError",
     "evalue": "'NoneType' object has no attribute 'div'",
     "output_type": "error",
     "traceback": [
      "\u001b[0;31m---------------------------------------------------------------------------\u001b[0m",
      "\u001b[0;31mAttributeError\u001b[0m                            Traceback (most recent call last)",
      "Cell \u001b[0;32mIn[79], line 2\u001b[0m\n\u001b[1;32m      1\u001b[0m \u001b[38;5;28;01mfor\u001b[39;00m i \u001b[38;5;129;01min\u001b[39;00m comments_bigbox:\n\u001b[0;32m----> 2\u001b[0m     \u001b[38;5;28mprint\u001b[39m(\u001b[43mi\u001b[49m\u001b[38;5;241;43m.\u001b[39;49m\u001b[43mdiv\u001b[49m\u001b[38;5;241;43m.\u001b[39;49m\u001b[43mdiv\u001b[49m\u001b[38;5;241m.\u001b[39mfind_all(\u001b[38;5;124m\"\u001b[39m\u001b[38;5;124mdiv\u001b[39m\u001b[38;5;124m\"\u001b[39m,{\u001b[38;5;124m\"\u001b[39m\u001b[38;5;124mclass\u001b[39m\u001b[38;5;124m\"\u001b[39m:\u001b[38;5;124m\"\u001b[39m\u001b[38;5;124m\"\u001b[39m})[\u001b[38;5;241m0\u001b[39m]\u001b[38;5;241m.\u001b[39mdiv\u001b[38;5;241m.\u001b[39mtext)\n",
      "\u001b[0;31mAttributeError\u001b[0m: 'NoneType' object has no attribute 'div'"
     ]
    }
   ],
   "source": [
    "for i in comments_bigbox:\n",
    "    print(i.div.div.find_all(\"div\",{\"class\":\"\"})[0].div.text)"
   ]
  },
  {
   "cell_type": "code",
   "execution_count": null,
   "id": "3a562dfd-5665-47ad-a178-def41c139f7d",
   "metadata": {},
   "outputs": [],
   "source": []
  },
  {
   "cell_type": "code",
   "execution_count": null,
   "id": "af4706df-5ff5-4425-939c-f76ed0b5b104",
   "metadata": {},
   "outputs": [],
   "source": []
  },
  {
   "cell_type": "code",
   "execution_count": null,
   "id": "ef67f6d1-f46b-4957-b934-81130c02d3f1",
   "metadata": {},
   "outputs": [],
   "source": []
  },
  {
   "cell_type": "code",
   "execution_count": null,
   "id": "505b16ea-62f9-44b6-afbf-2670b62c8a1e",
   "metadata": {},
   "outputs": [],
   "source": []
  }
 ],
 "metadata": {
  "kernelspec": {
   "display_name": "Python 3 (ipykernel)",
   "language": "python",
   "name": "python3"
  },
  "language_info": {
   "codemirror_mode": {
    "name": "ipython",
    "version": 3
   },
   "file_extension": ".py",
   "mimetype": "text/x-python",
   "name": "python",
   "nbconvert_exporter": "python",
   "pygments_lexer": "ipython3",
   "version": "3.10.8"
  }
 },
 "nbformat": 4,
 "nbformat_minor": 5
}
